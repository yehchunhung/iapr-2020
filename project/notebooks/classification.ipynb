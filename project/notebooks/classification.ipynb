{
 "cells": [
  {
   "cell_type": "markdown",
   "metadata": {
    "Collapsed": "false"
   },
   "source": [
    "I trained the model on Google Colab."
   ]
  },
  {
   "cell_type": "code",
   "execution_count": 1,
   "metadata": {
    "Collapsed": "false",
    "colab": {
     "base_uri": "https://localhost:8080/",
     "height": 133
    },
    "colab_type": "code",
    "executionInfo": {
     "elapsed": 23943,
     "status": "ok",
     "timestamp": 1589284628753,
     "user": {
      "displayName": "Kuan Tung",
      "photoUrl": "https://lh3.googleusercontent.com/a-/AOh14GjEJeYXq1DTW6dxJx_6cJlhvlYUSuFZaQT9xJDEysg=s64",
      "userId": "00163027134048722039"
     },
     "user_tz": -480
    },
    "id": "YKNTBUq5n38k",
    "outputId": "0f06d336-197e-4b04-a0ea-bbbd580c2f53"
   },
   "outputs": [
    {
     "name": "stdout",
     "output_type": "stream",
     "text": [
      "Go to this URL in a browser: https://accounts.google.com/o/oauth2/auth?client_id=947318989803-6bn6qk8qdgf4n4g3pfee6491hc0brc4i.apps.googleusercontent.com&redirect_uri=urn%3aietf%3awg%3aoauth%3a2.0%3aoob&response_type=code&scope=email%20https%3a%2f%2fwww.googleapis.com%2fauth%2fdocs.test%20https%3a%2f%2fwww.googleapis.com%2fauth%2fdrive%20https%3a%2f%2fwww.googleapis.com%2fauth%2fdrive.photos.readonly%20https%3a%2f%2fwww.googleapis.com%2fauth%2fpeopleapi.readonly\n",
      "\n",
      "Enter your authorization code:\n",
      "··········\n",
      "Mounted at /content/drive\n"
     ]
    }
   ],
   "source": [
    "from google.colab import drive\n",
    "drive.mount('/content/drive')"
   ]
  },
  {
   "cell_type": "code",
   "execution_count": null,
   "metadata": {
    "Collapsed": "false",
    "colab": {},
    "colab_type": "code",
    "id": "J-eWUw0Bn5fi"
   },
   "outputs": [],
   "source": [
    "!cp '/content/drive/My Drive/EPFL/Image Analysis and Pattern Recognition/iapr-2020/project/operators.zip' '.'"
   ]
  },
  {
   "cell_type": "code",
   "execution_count": null,
   "metadata": {
    "Collapsed": "false",
    "colab": {},
    "colab_type": "code",
    "id": "CAEEondwuP0z"
   },
   "outputs": [],
   "source": [
    "!unzip -q operators.zip -d '.'"
   ]
  },
  {
   "cell_type": "code",
   "execution_count": null,
   "metadata": {
    "Collapsed": "false",
    "colab": {},
    "colab_type": "code",
    "id": "apGhQ1guuwxH"
   },
   "outputs": [],
   "source": [
    "!rm -rf __MACOSX"
   ]
  },
  {
   "cell_type": "code",
   "execution_count": 5,
   "metadata": {
    "Collapsed": "false",
    "colab": {
     "base_uri": "https://localhost:8080/",
     "height": 36
    },
    "colab_type": "code",
    "executionInfo": {
     "elapsed": 13876,
     "status": "ok",
     "timestamp": 1589284691017,
     "user": {
      "displayName": "Kuan Tung",
      "photoUrl": "https://lh3.googleusercontent.com/a-/AOh14GjEJeYXq1DTW6dxJx_6cJlhvlYUSuFZaQT9xJDEysg=s64",
      "userId": "00163027134048722039"
     },
     "user_tz": -480
    },
    "id": "_qQVBm7GfC9T",
    "outputId": "f3ec4a05-2a8c-4f5a-b49a-6b1127b40210"
   },
   "outputs": [
    {
     "name": "stderr",
     "output_type": "stream",
     "text": [
      "Using TensorFlow backend.\n"
     ]
    }
   ],
   "source": [
    "import datetime\n",
    "import pathlib\n",
    "\n",
    "import numpy as np\n",
    "import tensorflow as tf\n",
    "import matplotlib.pyplot as plt\n",
    "from PIL import Image\n",
    "\n",
    "import keras\n",
    "from keras.datasets import mnist\n",
    "from keras.models import Sequential\n",
    "from keras.layers import Dense, Dropout, Activation, Flatten\n",
    "from keras.layers import Conv2D, MaxPooling2D\n",
    "from keras.preprocessing.image import ImageDataGenerator\n",
    "from keras.optimizers import Adam\n",
    "from keras import backend as K"
   ]
  },
  {
   "cell_type": "code",
   "execution_count": 6,
   "metadata": {
    "Collapsed": "false",
    "colab": {
     "base_uri": "https://localhost:8080/",
     "height": 55
    },
    "colab_type": "code",
    "executionInfo": {
     "elapsed": 18238,
     "status": "ok",
     "timestamp": 1589284695694,
     "user": {
      "displayName": "Kuan Tung",
      "photoUrl": "https://lh3.googleusercontent.com/a-/AOh14GjEJeYXq1DTW6dxJx_6cJlhvlYUSuFZaQT9xJDEysg=s64",
      "userId": "00163027134048722039"
     },
     "user_tz": -480
    },
    "id": "JvAtlz4ivAxA",
    "outputId": "53228cfb-8202-4cf6-e9f4-446dc9e7c277"
   },
   "outputs": [
    {
     "name": "stdout",
     "output_type": "stream",
     "text": [
      "(31665, 28, 28)\n",
      "(31665,)\n"
     ]
    }
   ],
   "source": [
    "data_dir = pathlib.Path('operators')\n",
    "plus_path = list(data_dir.glob('plus/*.png'))\n",
    "minus_path = list(data_dir.glob('minus/*.png'))\n",
    "multiply_path = list(data_dir.glob('multiply/*.png'))\n",
    "divide_path = list(data_dir.glob('divide/*.png'))\n",
    "equal_path = list(data_dir.glob('equal/*.png'))\n",
    "\n",
    "plus = [Image.open(path) for path in plus_path]\n",
    "minus = [Image.open(path) for path in minus_path]\n",
    "multiply = [Image.open(path) for path in multiply_path]\n",
    "divide = [Image.open(path) for path in divide_path]\n",
    "equal = [Image.open(path) for path in equal_path]\n",
    "\n",
    "plus_numpy = np.array([np.array(img) for img in plus])\n",
    "minus_numpy = np.array([np.array(img) for img in minus])\n",
    "multiply_numpy = np.array([np.array(img) for img in multiply])\n",
    "divide_numpy = np.array([np.array(img) for img in divide])\n",
    "equal_numpy = np.array([np.array(img) for img in equal])\n",
    "\n",
    "x_op = np.concatenate((plus_numpy, minus_numpy, multiply_numpy, divide_numpy, equal_numpy))\n",
    "y_op = np.concatenate((9 * np.ones(len(plus)), 10 * np.ones(len(minus)), 11 * np.ones(len(multiply)), 12 * np.ones(len(divide)), 13 * np.ones(len(equal))))\n",
    "print(x_op.shape)\n",
    "print(y_op.shape)\n",
    "\n",
    "rand_perm = np.random.permutation(len(y_op))\n",
    "x_op = x_op[rand_perm]\n",
    "y_op = y_op[rand_perm]\n",
    "\n",
    "x_op_train = x_op[:27000]\n",
    "x_op_test = x_op[27000:]\n",
    "y_op_train = y_op[:27000]\n",
    "y_op_test = y_op[27000:]"
   ]
  },
  {
   "cell_type": "code",
   "execution_count": 7,
   "metadata": {
    "Collapsed": "false",
    "colab": {
     "base_uri": "https://localhost:8080/",
     "height": 36
    },
    "colab_type": "code",
    "executionInfo": {
     "elapsed": 17877,
     "status": "ok",
     "timestamp": 1589284695697,
     "user": {
      "displayName": "Kuan Tung",
      "photoUrl": "https://lh3.googleusercontent.com/a-/AOh14GjEJeYXq1DTW6dxJx_6cJlhvlYUSuFZaQT9xJDEysg=s64",
      "userId": "00163027134048722039"
     },
     "user_tz": -480
    },
    "id": "m439HE-hfC9e",
    "outputId": "40d43740-bd5b-4632-f070-2ca042f8a72a"
   },
   "outputs": [
    {
     "name": "stdout",
     "output_type": "stream",
     "text": [
      "(28, 28, 1)\n"
     ]
    }
   ],
   "source": [
    "now = datetime.datetime.now\n",
    "\n",
    "num_classes = 14\n",
    "\n",
    "# input image dimensions\n",
    "img_rows, img_cols = 28, 28\n",
    "\n",
    "if K.image_data_format() == 'channels_first':\n",
    "    input_shape = (1, img_rows, img_cols)\n",
    "else:\n",
    "    input_shape = (img_rows, img_cols, 1)\n",
    "print(input_shape)"
   ]
  },
  {
   "cell_type": "code",
   "execution_count": null,
   "metadata": {
    "Collapsed": "false",
    "colab": {},
    "colab_type": "code",
    "id": "prHvkkZLfC9p"
   },
   "outputs": [],
   "source": [
    "def train_model(model, train, test, num_classes, epochs, batch_size, steps):\n",
    "    x_train = train[0].reshape((train[0].shape[0],) + input_shape)\n",
    "    x_test = test[0].reshape((test[0].shape[0],) + input_shape)\n",
    "    x_train = x_train.astype('float32')\n",
    "    x_test = x_test.astype('float32')\n",
    "    x_train /= 255\n",
    "    x_test /= 255\n",
    "    print('x_train shape:', x_train.shape)\n",
    "    print(x_train.shape[0], 'train samples')\n",
    "    print(x_test.shape[0], 'test samples')\n",
    "\n",
    "    # convert class vectors to binary class matrices\n",
    "    y_train = keras.utils.to_categorical(train[1], num_classes)\n",
    "    y_test = keras.utils.to_categorical(test[1], num_classes)\n",
    "\n",
    "    model.compile(loss='categorical_crossentropy',\n",
    "                  optimizer=Adam(),\n",
    "                  metrics=['accuracy'])\n",
    "\n",
    "    t = now()\n",
    "\n",
    "    datagen = ImageDataGenerator(\n",
    "        rotation_range=360,\n",
    "        zoom_range = [0.9, 1.6],\n",
    "        width_shift_range=0.1,\n",
    "        height_shift_range=0.1)\n",
    "\n",
    "\n",
    "    #datagen.fit(X_train)\n",
    "    train_gen = datagen.flow(x_train, y_train, batch_size=batch_size)\n",
    "    test_gen = datagen.flow(x_test, y_test, batch_size=batch_size)\n",
    "\n",
    "    history = model.fit_generator(train_gen, \n",
    "                                  epochs=epochs, \n",
    "                                  steps_per_epoch=steps,\n",
    "                                  validation_data=test_gen,\n",
    "                                  validation_steps=steps\n",
    "    )\n",
    "\n",
    "    print('Training time: %s' % (now() - t))\n",
    "    score = model.evaluate(x_test, y_test, verbose=0)\n",
    "    print('Test score:', score[0])\n",
    "    print('Test accuracy:', score[1])"
   ]
  },
  {
   "cell_type": "code",
   "execution_count": 9,
   "metadata": {
    "Collapsed": "false",
    "colab": {
     "base_uri": "https://localhost:8080/",
     "height": 55
    },
    "colab_type": "code",
    "executionInfo": {
     "elapsed": 15212,
     "status": "ok",
     "timestamp": 1589284699447,
     "user": {
      "displayName": "Kuan Tung",
      "photoUrl": "https://lh3.googleusercontent.com/a-/AOh14GjEJeYXq1DTW6dxJx_6cJlhvlYUSuFZaQT9xJDEysg=s64",
      "userId": "00163027134048722039"
     },
     "user_tz": -480
    },
    "id": "9OFTUPr0fC9w",
    "outputId": "a3c36808-4907-49fb-b6d3-5ad1a7dced10"
   },
   "outputs": [
    {
     "name": "stdout",
     "output_type": "stream",
     "text": [
      "Downloading data from https://s3.amazonaws.com/img-datasets/mnist.npz\n",
      "11493376/11490434 [==============================] - 2s 0us/step\n"
     ]
    }
   ],
   "source": [
    "# the data, split between train and test sets\n",
    "(x_train, y_train), (x_test, y_test) = mnist.load_data()"
   ]
  },
  {
   "cell_type": "code",
   "execution_count": 10,
   "metadata": {
    "Collapsed": "false",
    "colab": {
     "base_uri": "https://localhost:8080/",
     "height": 93
    },
    "colab_type": "code",
    "executionInfo": {
     "elapsed": 14370,
     "status": "ok",
     "timestamp": 1589284699449,
     "user": {
      "displayName": "Kuan Tung",
      "photoUrl": "https://lh3.googleusercontent.com/a-/AOh14GjEJeYXq1DTW6dxJx_6cJlhvlYUSuFZaQT9xJDEysg=s64",
      "userId": "00163027134048722039"
     },
     "user_tz": -480
    },
    "id": "xzB-rLKPzqTz",
    "outputId": "76288730-5b1f-427d-fc95-f348cb863276"
   },
   "outputs": [
    {
     "name": "stdout",
     "output_type": "stream",
     "text": [
      "(54051, 28, 28)\n",
      "(54051,)\n",
      "(8991, 28, 28)\n",
      "(8991,)\n"
     ]
    }
   ],
   "source": [
    "x_train = x_train[np.where(y_train != 9)[0]]\n",
    "y_train = y_train[np.where(y_train != 9)[0]]\n",
    "x_test = x_test[np.where(y_test != 9)[0]]\n",
    "y_test = y_test[np.where(y_test != 9)[0]]\n",
    "print(x_train.shape)\n",
    "print(y_train.shape)\n",
    "print(x_test.shape)\n",
    "print(y_test.shape)"
   ]
  },
  {
   "cell_type": "code",
   "execution_count": 11,
   "metadata": {
    "Collapsed": "false",
    "colab": {
     "base_uri": "https://localhost:8080/",
     "height": 93
    },
    "colab_type": "code",
    "executionInfo": {
     "elapsed": 10578,
     "status": "ok",
     "timestamp": 1589284699450,
     "user": {
      "displayName": "Kuan Tung",
      "photoUrl": "https://lh3.googleusercontent.com/a-/AOh14GjEJeYXq1DTW6dxJx_6cJlhvlYUSuFZaQT9xJDEysg=s64",
      "userId": "00163027134048722039"
     },
     "user_tz": -480
    },
    "id": "35iCnudhzOko",
    "outputId": "0ffea4dd-ef66-4fb6-f630-6005fc935065"
   },
   "outputs": [
    {
     "name": "stdout",
     "output_type": "stream",
     "text": [
      "(81051, 28, 28)\n",
      "(81051,)\n",
      "(13656, 28, 28)\n",
      "(13656,)\n"
     ]
    }
   ],
   "source": [
    "x_train = np.concatenate((x_train, x_op_train))\n",
    "y_train = np.concatenate((y_train, y_op_train))\n",
    "x_test = np.concatenate((x_test, x_op_test))\n",
    "y_test = np.concatenate((y_test, y_op_test))\n",
    "print(x_train.shape)\n",
    "print(y_train.shape)\n",
    "print(x_test.shape)\n",
    "print(y_test.shape)"
   ]
  },
  {
   "cell_type": "code",
   "execution_count": null,
   "metadata": {
    "Collapsed": "false",
    "colab": {},
    "colab_type": "code",
    "id": "FbsmG3dHfC92"
   },
   "outputs": [],
   "source": [
    "# define two groups of layers: feature (convolutions) and classification (dense)\n",
    "feature_layers = [\n",
    "    Conv2D(16, 3, padding='same', input_shape=input_shape),\n",
    "    Activation('relu'),\n",
    "    Conv2D(16, 3, padding='same'),\n",
    "    Activation('relu'),\n",
    "    MaxPooling2D(pool_size=2),\n",
    "    Dropout(0.25),\n",
    "    Conv2D(32, 3, padding='same'),\n",
    "    Activation('relu'),\n",
    "    Conv2D(32, 3, padding='same'),\n",
    "    Activation('relu'),\n",
    "    Dropout(0.25),\n",
    "    Flatten(),\n",
    "]\n",
    "\n",
    "classification_layers = [\n",
    "    Dense(256),\n",
    "    Activation('relu'),\n",
    "    Dropout(0.25),\n",
    "    Dense(num_classes),\n",
    "    Activation('softmax')\n",
    "]"
   ]
  },
  {
   "cell_type": "code",
   "execution_count": null,
   "metadata": {
    "Collapsed": "false",
    "colab": {
     "base_uri": "https://localhost:8080/",
     "height": 1000
    },
    "colab_type": "code",
    "executionInfo": {
     "elapsed": 674910,
     "status": "ok",
     "timestamp": 1589250395834,
     "user": {
      "displayName": "Kuan Tung",
      "photoUrl": "https://lh3.googleusercontent.com/a-/AOh14GjEJeYXq1DTW6dxJx_6cJlhvlYUSuFZaQT9xJDEysg=s64",
      "userId": "00163027134048722039"
     },
     "user_tz": -480
    },
    "id": "DhQ0Cg6GfC9-",
    "outputId": "033daa1c-5265-4e16-cb8f-5478a93dc29b"
   },
   "outputs": [
    {
     "name": "stdout",
     "output_type": "stream",
     "text": [
      "x_train shape: (81051, 28, 28, 1)\n",
      "81051 train samples\n",
      "13656 test samples\n",
      "Epoch 1/30\n",
      "316/316 [==============================] - 27s 84ms/step - loss: 1.1806 - accuracy: 0.5997 - val_loss: 0.5366 - val_accuracy: 0.8226\n",
      "Epoch 2/30\n",
      "316/316 [==============================] - 21s 67ms/step - loss: 0.5151 - accuracy: 0.8289 - val_loss: 0.2075 - val_accuracy: 0.9070\n",
      "Epoch 3/30\n",
      "316/316 [==============================] - 21s 67ms/step - loss: 0.3764 - accuracy: 0.8752 - val_loss: 0.2494 - val_accuracy: 0.9190\n",
      "Epoch 4/30\n",
      "316/316 [==============================] - 21s 67ms/step - loss: 0.3168 - accuracy: 0.8958 - val_loss: 0.1921 - val_accuracy: 0.9379\n",
      "Epoch 5/30\n",
      "316/316 [==============================] - 22s 69ms/step - loss: 0.2770 - accuracy: 0.9086 - val_loss: 0.2276 - val_accuracy: 0.9441\n",
      "Epoch 6/30\n",
      "316/316 [==============================] - 22s 69ms/step - loss: 0.2574 - accuracy: 0.9145 - val_loss: 0.1643 - val_accuracy: 0.9501\n",
      "Epoch 7/30\n",
      "316/316 [==============================] - 22s 69ms/step - loss: 0.2344 - accuracy: 0.9228 - val_loss: 0.1606 - val_accuracy: 0.9513\n",
      "Epoch 8/30\n",
      "316/316 [==============================] - 22s 69ms/step - loss: 0.2215 - accuracy: 0.9273 - val_loss: 0.1438 - val_accuracy: 0.9537\n",
      "Epoch 9/30\n",
      "316/316 [==============================] - 22s 69ms/step - loss: 0.2125 - accuracy: 0.9300 - val_loss: 0.1797 - val_accuracy: 0.9550\n",
      "Epoch 10/30\n",
      "316/316 [==============================] - 22s 70ms/step - loss: 0.2028 - accuracy: 0.9327 - val_loss: 0.1255 - val_accuracy: 0.9564\n",
      "Epoch 11/30\n",
      "316/316 [==============================] - 22s 70ms/step - loss: 0.1930 - accuracy: 0.9357 - val_loss: 0.1196 - val_accuracy: 0.9549\n",
      "Epoch 12/30\n",
      "316/316 [==============================] - 22s 70ms/step - loss: 0.1878 - accuracy: 0.9387 - val_loss: 0.1110 - val_accuracy: 0.9602\n",
      "Epoch 13/30\n",
      "316/316 [==============================] - 22s 71ms/step - loss: 0.1827 - accuracy: 0.9398 - val_loss: 0.0712 - val_accuracy: 0.9542\n",
      "Epoch 14/30\n",
      "316/316 [==============================] - 22s 69ms/step - loss: 0.1792 - accuracy: 0.9417 - val_loss: 0.1642 - val_accuracy: 0.9596\n",
      "Epoch 15/30\n",
      "316/316 [==============================] - 23s 71ms/step - loss: 0.1731 - accuracy: 0.9430 - val_loss: 0.0766 - val_accuracy: 0.9621\n",
      "Epoch 16/30\n",
      "316/316 [==============================] - 22s 71ms/step - loss: 0.1695 - accuracy: 0.9438 - val_loss: 0.0986 - val_accuracy: 0.9575\n",
      "Epoch 17/30\n",
      "316/316 [==============================] - 22s 71ms/step - loss: 0.1646 - accuracy: 0.9464 - val_loss: 0.0903 - val_accuracy: 0.9641\n",
      "Epoch 18/30\n",
      "316/316 [==============================] - 22s 70ms/step - loss: 0.1594 - accuracy: 0.9473 - val_loss: 0.1123 - val_accuracy: 0.9645\n",
      "Epoch 19/30\n",
      "316/316 [==============================] - 23s 72ms/step - loss: 0.1558 - accuracy: 0.9484 - val_loss: 0.0712 - val_accuracy: 0.9639\n",
      "Epoch 20/30\n",
      "316/316 [==============================] - 22s 71ms/step - loss: 0.1524 - accuracy: 0.9504 - val_loss: 0.1494 - val_accuracy: 0.9676\n",
      "Epoch 21/30\n",
      "316/316 [==============================] - 22s 71ms/step - loss: 0.1508 - accuracy: 0.9501 - val_loss: 0.1124 - val_accuracy: 0.9674\n",
      "Epoch 22/30\n",
      "316/316 [==============================] - 22s 70ms/step - loss: 0.1480 - accuracy: 0.9515 - val_loss: 0.0785 - val_accuracy: 0.9682\n",
      "Epoch 23/30\n",
      "316/316 [==============================] - 22s 70ms/step - loss: 0.1463 - accuracy: 0.9520 - val_loss: 0.0633 - val_accuracy: 0.9685\n",
      "Epoch 24/30\n",
      "316/316 [==============================] - 22s 70ms/step - loss: 0.1435 - accuracy: 0.9528 - val_loss: 0.0853 - val_accuracy: 0.9674\n",
      "Epoch 25/30\n",
      "316/316 [==============================] - 22s 69ms/step - loss: 0.1395 - accuracy: 0.9544 - val_loss: 0.0880 - val_accuracy: 0.9701\n",
      "Epoch 26/30\n",
      "316/316 [==============================] - 22s 70ms/step - loss: 0.1385 - accuracy: 0.9555 - val_loss: 0.0770 - val_accuracy: 0.9674\n",
      "Epoch 27/30\n",
      "316/316 [==============================] - 22s 69ms/step - loss: 0.1355 - accuracy: 0.9557 - val_loss: 0.1114 - val_accuracy: 0.9677\n",
      "Epoch 28/30\n",
      "316/316 [==============================] - 21s 68ms/step - loss: 0.1348 - accuracy: 0.9564 - val_loss: 0.0821 - val_accuracy: 0.9677\n",
      "Epoch 29/30\n",
      "316/316 [==============================] - 22s 69ms/step - loss: 0.1320 - accuracy: 0.9577 - val_loss: 0.0712 - val_accuracy: 0.9731\n",
      "Epoch 30/30\n",
      "316/316 [==============================] - 21s 67ms/step - loss: 0.1307 - accuracy: 0.9581 - val_loss: 0.0691 - val_accuracy: 0.9723\n",
      "Training time: 0:11:04.839739\n",
      "Test score: 0.13020521857296039\n",
      "Test accuracy: 0.9628734588623047\n"
     ]
    }
   ],
   "source": [
    "# create complete model\n",
    "model = Sequential(feature_layers + classification_layers)\n",
    "\n",
    "# train model\n",
    "train_model(model,\n",
    "            (x_train, y_train),\n",
    "            (x_test, y_test), num_classes, 30, 256)"
   ]
  },
  {
   "cell_type": "code",
   "execution_count": null,
   "metadata": {
    "Collapsed": "false",
    "colab": {
     "base_uri": "https://localhost:8080/",
     "height": 534
    },
    "colab_type": "code",
    "executionInfo": {
     "elapsed": 531071,
     "status": "ok",
     "timestamp": 1589254247920,
     "user": {
      "displayName": "Kuan Tung",
      "photoUrl": "https://lh3.googleusercontent.com/a-/AOh14GjEJeYXq1DTW6dxJx_6cJlhvlYUSuFZaQT9xJDEysg=s64",
      "userId": "00163027134048722039"
     },
     "user_tz": -480
    },
    "id": "-kFhMFy45iAu",
    "outputId": "6e45ff1e-b06d-497e-8dcb-9fedf63ada6f"
   },
   "outputs": [
    {
     "name": "stdout",
     "output_type": "stream",
     "text": [
      "x_train shape: (81051, 28, 28, 1)\n",
      "81051 train samples\n",
      "13656 test samples\n",
      "Epoch 1/10\n",
      "500/500 [==============================] - 55s 110ms/step - loss: 0.1307 - accuracy: 0.9575 - val_loss: 0.0575 - val_accuracy: 0.9732\n",
      "Epoch 2/10\n",
      "500/500 [==============================] - 55s 109ms/step - loss: 0.1266 - accuracy: 0.9588 - val_loss: 0.0579 - val_accuracy: 0.9744\n",
      "Epoch 3/10\n",
      "500/500 [==============================] - 54s 107ms/step - loss: 0.1242 - accuracy: 0.9592 - val_loss: 0.0855 - val_accuracy: 0.9739\n",
      "Epoch 4/10\n",
      "500/500 [==============================] - 53s 106ms/step - loss: 0.1222 - accuracy: 0.9610 - val_loss: 0.0574 - val_accuracy: 0.9734\n",
      "Epoch 5/10\n",
      "500/500 [==============================] - 52s 105ms/step - loss: 0.1201 - accuracy: 0.9610 - val_loss: 0.0617 - val_accuracy: 0.9745\n",
      "Epoch 6/10\n",
      "500/500 [==============================] - 52s 104ms/step - loss: 0.1178 - accuracy: 0.9624 - val_loss: 0.0366 - val_accuracy: 0.9749\n",
      "Epoch 7/10\n",
      "500/500 [==============================] - 52s 104ms/step - loss: 0.1167 - accuracy: 0.9626 - val_loss: 0.0880 - val_accuracy: 0.9745\n",
      "Epoch 8/10\n",
      "500/500 [==============================] - 52s 103ms/step - loss: 0.1155 - accuracy: 0.9627 - val_loss: 0.0974 - val_accuracy: 0.9734\n",
      "Epoch 9/10\n",
      "500/500 [==============================] - 52s 105ms/step - loss: 0.1107 - accuracy: 0.9646 - val_loss: 0.0606 - val_accuracy: 0.9727\n",
      "Epoch 10/10\n",
      "500/500 [==============================] - 52s 104ms/step - loss: 0.1106 - accuracy: 0.9645 - val_loss: 0.0907 - val_accuracy: 0.9758\n",
      "Training time: 0:08:49.579277\n",
      "Test score: 0.06835895206640935\n",
      "Test accuracy: 0.9801552295684814\n"
     ]
    }
   ],
   "source": [
    "train_model(model,\n",
    "            (x_train, y_train),\n",
    "            (x_test, y_test), num_classes, 10, 256)"
   ]
  },
  {
   "cell_type": "code",
   "execution_count": null,
   "metadata": {
    "Collapsed": "false",
    "colab": {},
    "colab_type": "code",
    "id": "mJuMkvIm8s81"
   },
   "outputs": [],
   "source": [
    "!cp '/content/drive/My Drive/EPFL/Image Analysis and Pattern Recognition/iapr-2020/project/data.zip' '.'"
   ]
  },
  {
   "cell_type": "code",
   "execution_count": null,
   "metadata": {
    "Collapsed": "false",
    "colab": {},
    "colab_type": "code",
    "id": "LuDkyG9E80nd"
   },
   "outputs": [],
   "source": [
    "!unzip -q data.zip -d '.'"
   ]
  },
  {
   "cell_type": "code",
   "execution_count": null,
   "metadata": {
    "Collapsed": "false",
    "colab": {},
    "colab_type": "code",
    "id": "wMseLB6F83jO"
   },
   "outputs": [],
   "source": [
    "!rm -rf __MACOSX"
   ]
  },
  {
   "cell_type": "code",
   "execution_count": 16,
   "metadata": {
    "Collapsed": "false",
    "colab": {
     "base_uri": "https://localhost:8080/",
     "height": 55
    },
    "colab_type": "code",
    "executionInfo": {
     "elapsed": 12158,
     "status": "ok",
     "timestamp": 1589284718466,
     "user": {
      "displayName": "Kuan Tung",
      "photoUrl": "https://lh3.googleusercontent.com/a-/AOh14GjEJeYXq1DTW6dxJx_6cJlhvlYUSuFZaQT9xJDEysg=s64",
      "userId": "00163027134048722039"
     },
     "user_tz": -480
    },
    "id": "_MLLdIti858X",
    "outputId": "94879e7a-5b3a-4650-cced-9053bb888208"
   },
   "outputs": [
    {
     "name": "stdout",
     "output_type": "stream",
     "text": [
      "(70, 28, 28)\n",
      "(70,)\n"
     ]
    }
   ],
   "source": [
    "data_dir = pathlib.Path('data')\n",
    "two_path = list(data_dir.glob('2/*.png'))\n",
    "three_path = list(data_dir.glob('3/*.png'))\n",
    "seven_path = list(data_dir.glob('7/*.png'))\n",
    "plus_path = list(data_dir.glob('plus/*.png'))\n",
    "multiply_path = list(data_dir.glob('multiply/*.png'))\n",
    "divide_path = list(data_dir.glob('divide/*.png'))\n",
    "equal_path = list(data_dir.glob('equal/*.png'))\n",
    "\n",
    "two = [Image.open(path) for path in two_path]\n",
    "three = [Image.open(path) for path in three_path]\n",
    "seven = [Image.open(path) for path in seven_path]\n",
    "plus = [Image.open(path) for path in plus_path]\n",
    "multiply = [Image.open(path) for path in multiply_path]\n",
    "divide = [Image.open(path) for path in divide_path]\n",
    "equal = [Image.open(path) for path in equal_path]\n",
    "\n",
    "two_numpy = np.array([np.array(img) for img in two])\n",
    "three_numpy = np.array([np.array(img) for img in three])\n",
    "seven_numpy = np.array([np.array(img) for img in seven])\n",
    "plus_numpy = np.array([np.array(img) for img in plus])\n",
    "multiply_numpy = np.array([np.array(img) for img in multiply])\n",
    "divide_numpy = np.array([np.array(img) for img in divide])\n",
    "equal_numpy = np.array([np.array(img) for img in equal])\n",
    "\n",
    "x_vid = np.concatenate((two_numpy, three_numpy, seven_numpy, plus_numpy, multiply_numpy, divide_numpy, equal_numpy))\n",
    "y_vid = np.concatenate((2 * np.ones(len(two)), 3 * np.ones(len(three)), 7 * np.ones(len(seven)), 9 * np.ones(len(plus)), 11 * np.ones(len(multiply)), 12 * np.ones(len(divide)), 13 * np.ones(len(equal))))\n",
    "print(x_vid.shape)\n",
    "print(y_vid.shape)\n",
    "\n",
    "rand_perm = np.random.permutation(len(y_vid))\n",
    "x_vid = x_vid[rand_perm]\n",
    "y_vid = y_vid[rand_perm]"
   ]
  },
  {
   "cell_type": "code",
   "execution_count": null,
   "metadata": {
    "Collapsed": "false",
    "colab": {},
    "colab_type": "code",
    "id": "Zmt4fkmf-Zdb"
   },
   "outputs": [],
   "source": [
    "x_vid_train = x_vid[:50]\n",
    "x_vid_test = x_vid[50:]\n",
    "y_vid_train = y_vid[:50]\n",
    "y_vid_test = y_vid[50:]"
   ]
  },
  {
   "cell_type": "code",
   "execution_count": null,
   "metadata": {
    "Collapsed": "false",
    "colab": {
     "base_uri": "https://localhost:8080/",
     "height": 190
    },
    "colab_type": "code",
    "executionInfo": {
     "elapsed": 17197,
     "status": "ok",
     "timestamp": 1589255078446,
     "user": {
      "displayName": "Kuan Tung",
      "photoUrl": "https://lh3.googleusercontent.com/a-/AOh14GjEJeYXq1DTW6dxJx_6cJlhvlYUSuFZaQT9xJDEysg=s64",
      "userId": "00163027134048722039"
     },
     "user_tz": -480
    },
    "id": "Fd33Kr6--fdY",
    "outputId": "03891696-79f4-43f3-aa16-1863bd30fe04"
   },
   "outputs": [
    {
     "name": "stdout",
     "output_type": "stream",
     "text": [
      "x_train shape: (50, 28, 28, 1)\n",
      "50 train samples\n",
      "20 test samples\n",
      "Epoch 1/1\n",
      "200/200 [==============================] - 15s 77ms/step - loss: 0.0418 - accuracy: 0.9864 - val_loss: 4.2733e-05 - val_accuracy: 1.0000\n",
      "Training time: 0:00:16.341880\n",
      "Test score: 3.844453203782905e-06\n",
      "Test accuracy: 1.0\n"
     ]
    }
   ],
   "source": [
    "train_model(model,\n",
    "            (x_vid_train, y_vid_train),\n",
    "            (x_vid_test, y_vid_test), num_classes, 1, 16, 200)"
   ]
  },
  {
   "cell_type": "code",
   "execution_count": null,
   "metadata": {
    "Collapsed": "false",
    "colab": {},
    "colab_type": "code",
    "id": "tuzD3TqofC-L"
   },
   "outputs": [],
   "source": [
    "model.save('model.h5')"
   ]
  },
  {
   "cell_type": "code",
   "execution_count": null,
   "metadata": {
    "Collapsed": "false",
    "colab": {},
    "colab_type": "code",
    "id": "a0EVs6oGwL12"
   },
   "outputs": [],
   "source": [
    "!cp '/content/drive/My Drive/EPFL/Image Analysis and Pattern Recognition/iapr-2020/project/model.h5' '.'"
   ]
  },
  {
   "cell_type": "code",
   "execution_count": null,
   "metadata": {
    "Collapsed": "false",
    "colab": {},
    "colab_type": "code",
    "id": "VAAPvO7iwEBH"
   },
   "outputs": [],
   "source": [
    "from tensorflow.keras.models import load_model"
   ]
  },
  {
   "cell_type": "code",
   "execution_count": null,
   "metadata": {
    "Collapsed": "false",
    "colab": {},
    "colab_type": "code",
    "id": "JapGrah_wHrK"
   },
   "outputs": [],
   "source": [
    "# load model\n",
    "model = load_model('model.h5')"
   ]
  },
  {
   "cell_type": "code",
   "execution_count": 47,
   "metadata": {
    "Collapsed": "false",
    "colab": {
     "base_uri": "https://localhost:8080/",
     "height": 341
    },
    "colab_type": "code",
    "executionInfo": {
     "elapsed": 1850,
     "status": "ok",
     "timestamp": 1589284926957,
     "user": {
      "displayName": "Kuan Tung",
      "photoUrl": "https://lh3.googleusercontent.com/a-/AOh14GjEJeYXq1DTW6dxJx_6cJlhvlYUSuFZaQT9xJDEysg=s64",
      "userId": "00163027134048722039"
     },
     "user_tz": -480
    },
    "id": "kpW-gBgW2vFW",
    "outputId": "15bef511-fa42-4323-d993-bc43864f1ccd"
   },
   "outputs": [
    {
     "name": "stdout",
     "output_type": "stream",
     "text": [
      "[[1.8525431e-16 9.9752146e-01 8.3179739e-09 1.3397172e-09 7.3287892e-10\n",
      "  1.2381274e-11 4.3416385e-08 1.5857279e-07 7.8588608e-11 2.1331529e-14\n",
      "  2.4782494e-03 4.7790562e-19 3.9642786e-17 1.8089593e-16]]\n",
      "1\n"
     ]
    },
    {
     "data": {
      "image/png": "[encoded data removed]",
      "text/plain": [
       "<Figure size 432x288 with 1 Axes>"
      ]
     },
     "metadata": {
      "needs_background": "light",
      "tags": []
     },
     "output_type": "display_data"
    }
   ],
   "source": [
    "test_idx = np.random.choice(np.where(y_test == 1)[0])\n",
    "prob = model.predict(x_test[test_idx].reshape(1, 28, 28, 1) / 255.)\n",
    "pred = np.argmax(prob)\n",
    "\n",
    "print(prob)\n",
    "print(pred)\n",
    "plt.imshow(x_test[test_idx], cmap='gray')\n",
    "plt.show()"
   ]
  },
  {
   "cell_type": "code",
   "execution_count": null,
   "metadata": {
    "Collapsed": "false",
    "colab": {},
    "colab_type": "code",
    "id": "8eyMLukr3Dzz"
   },
   "outputs": [],
   "source": []
  }
 ],
 "metadata": {
  "accelerator": "GPU",
  "colab": {
   "collapsed_sections": [],
   "name": "classification.ipynb",
   "provenance": []
  },
  "kernelspec": {
   "display_name": "Python 3",
   "language": "python",
   "name": "python3"
  },
  "language_info": {
   "codemirror_mode": {
    "name": "ipython",
    "version": 3
   },
   "file_extension": ".py",
   "mimetype": "text/x-python",
   "name": "python",
   "nbconvert_exporter": "python",
   "pygments_lexer": "ipython3",
   "version": "3.7.3"
  }
 },
 "nbformat": 4,
 "nbformat_minor": 4
}
