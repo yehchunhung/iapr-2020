{
 "cells": [
  {
   "cell_type": "markdown",
   "metadata": {},
   "source": [
    "# [IAPR 2020:][iapr2020] Lab 3 ‒  Classification\n",
    "\n",
    "**Team :** Group 5\n",
    "\n",
    "**Authors :** Chun-Hung Yeh, Kuan Tung, Zhuoyue Wang \n",
    "\n",
    "**Due date:** 08.05.2020\n",
    "\n",
    "[iapr2018]: https://github.com/LTS5/iapr-2018"
   ]
  },
  {
   "cell_type": "markdown",
   "metadata": {},
   "source": [
    "## Extract relevant data\n",
    "We first need to extract the `lab-03-data.tar.gz` archive.\n",
    "To this end, we use the [tarfile] module from the Python standard library.\n",
    "\n",
    "[tarfile]: https://docs.python.org/3.6/library/tarfile.html"
   ]
  },
  {
   "cell_type": "code",
   "execution_count": 1,
   "metadata": {},
   "outputs": [],
   "source": [
    "import tarfile\n",
    "import os\n",
    "\n",
    "data_base_path = os.path.join(os.pardir, 'data')\n",
    "data_folder = 'lab-03-data'\n",
    "tar_path = os.path.join(data_base_path, data_folder + '.tar.gz')\n",
    "with tarfile.open(tar_path, mode='r:gz') as tar:\n",
    "    tar.extractall(path=data_base_path)"
   ]
  },
  {
   "cell_type": "markdown",
   "metadata": {},
   "source": [
    "## Part 1\n",
    "In this part, we will study classification based on the data available in the Matlab file `classification.mat` that you will under `lab-03-data/part1`.\n",
    "There are 3 data sets in this file, each one being a training set for a given class.\n",
    "They are contained in variables `a`, `b` and `c`.\n",
    "\n",
    "**Note**: we can load Matlab files using the [scipy.io] module.\n",
    "\n",
    "[scipy.io]: https://docs.scipy.org/doc/scipy/reference/io.html"
   ]
  },
  {
   "cell_type": "code",
   "execution_count": 2,
   "metadata": {},
   "outputs": [
    {
     "name": "stdout",
     "output_type": "stream",
     "text": [
      "(200, 2) (200, 2) (200, 2)\n"
     ]
    }
   ],
   "source": [
    "import scipy.io\n",
    "\n",
    "data_part1_path = os.path.join(data_base_path, data_folder, 'part1', 'classification.mat')\n",
    "matfile = scipy.io.loadmat(data_part1_path)\n",
    "a = matfile['a']\n",
    "b = matfile['b']\n",
    "c = matfile['c']\n",
    "\n",
    "print(a.shape, b.shape, c.shape)"
   ]
  },
  {
   "cell_type": "markdown",
   "metadata": {},
   "source": [
    "### 1.1 Bayes method\n",
    "Using the Bayes method, give the analytical expression of the separation curves between those three classes.\n",
    "Do reasonable hypotheses about the distributions of those classes and estimate the corresponding parameters based on the given training sets.\n",
    "Draw those curves on a plot, together with the training data.\n",
    "For simplicity reasons, round the estimated parameters to the closest integer value.\n",
    "\n",
    "*Add your implementation and discussion*"
   ]
  },
  {
   "cell_type": "code",
   "execution_count": 3,
   "metadata": {},
   "outputs": [],
   "source": [
    "import matplotlib.pyplot as plt\n",
    "import numpy as np\n",
    "from numpy.linalg import inv, det"
   ]
  },
  {
   "cell_type": "code",
   "execution_count": 4,
   "metadata": {},
   "outputs": [],
   "source": [
    "cov_a = np.cov(a, rowvar=False)\n",
    "cov_b = np.cov(b, rowvar=False)\n",
    "cov_c = np.cov(c, rowvar=False)\n",
    "mean_a = np.mean(a, 0, keepdims=True).T\n",
    "mean_b = np.mean(b, 0, keepdims=True).T\n",
    "mean_c = np.mean(c, 0, keepdims=True).T"
   ]
  },
  {
   "cell_type": "code",
   "execution_count": 5,
   "metadata": {},
   "outputs": [
    {
     "name": "stdout",
     "output_type": "stream",
     "text": [
      "Covariance matrix for class a\n",
      "[[10.02769733  0.13162336]\n",
      " [ 0.13162336  0.83932673]]\n",
      "mean for class a\n",
      "[[-0.21000115]\n",
      " [ 0.03048009]]\n"
     ]
    }
   ],
   "source": [
    "print('Covariance matrix for class a')\n",
    "print(cov_a)\n",
    "print('mean for class a')\n",
    "print(mean_a)"
   ]
  },
  {
   "cell_type": "code",
   "execution_count": 6,
   "metadata": {},
   "outputs": [
    {
     "name": "stdout",
     "output_type": "stream",
     "text": [
      "Covariance matrix for class b\n",
      "[[10.17034812  0.18023771]\n",
      " [ 0.18023771  1.0840038 ]]\n",
      "mean for class b\n",
      "[[2.8018991]\n",
      " [3.0535643]]\n"
     ]
    }
   ],
   "source": [
    "print('Covariance matrix for class b')\n",
    "print(cov_b)\n",
    "print('mean for class b')\n",
    "print(mean_b)"
   ]
  },
  {
   "cell_type": "code",
   "execution_count": 7,
   "metadata": {},
   "outputs": [
    {
     "name": "stdout",
     "output_type": "stream",
     "text": [
      "Covariance matrix for class c\n",
      "[[0.97013029 0.23458112]\n",
      " [0.23458112 4.69756273]]\n",
      "mean for class c\n",
      "[[-10.05748461]\n",
      " [  0.22582978]]\n"
     ]
    }
   ],
   "source": [
    "print('Covariance matrix for class c')\n",
    "print(cov_c)\n",
    "print('mean for class c')\n",
    "print(mean_c)"
   ]
  },
  {
   "cell_type": "markdown",
   "metadata": {},
   "source": [
    "The decision surface for two dimenaional data is\n",
    "$$ \n",
    "g_{ij} = \n",
    "-\\frac{1}{2}x^T(\\Sigma_{i}^{-1}-\\Sigma_{j}^{-1})x\n",
    "+ x^T(\\Sigma_{i}^{-1}\\mu_i-\\Sigma_{j}^{-1}\\mu_j)\n",
    "- \\frac{1}{2}(\\mu_i^T\\Sigma_{i}^{-1}\\mu_i - \\mu_j^T\\Sigma_{j}^{-1}\\mu_j) \n",
    "-\\big(ln(2\\pi|\\Sigma_i|^{\\frac{1}{2}})-ln(2\\pi|\\Sigma_j|^{\\frac{1}{2}})\\big)\n",
    "= 0\n",
    "$$\n",
    "For $g_{ab}$\n",
    "The first term is $-\\frac{1}{2}x^T(\\Sigma_{i}^{-1}-\\Sigma_{j}^{-1})x$. The matrix $-\\frac{1}{2}(\\Sigma_{i}^{-1}-\\Sigma_{j}^{-1})$ is (rounded to the nearest integer)"
   ]
  },
  {
   "cell_type": "code",
   "execution_count": 8,
   "metadata": {},
   "outputs": [
    {
     "data": {
      "text/plain": [
       "array([[-0., -0.],\n",
       "       [-0., -0.]])"
      ]
     },
     "execution_count": 8,
     "metadata": {},
     "output_type": "execute_result"
    }
   ],
   "source": [
    "np.round(-0.5*(np.linalg.inv(cov_a)-np.linalg.inv(cov_b)))"
   ]
  },
  {
   "cell_type": "markdown",
   "metadata": {},
   "source": [
    "The second term is $x^T(\\Sigma_{i}^{-1}\\mu_i-\\Sigma_{j}^{-1}\\mu_j)$. The vector $(\\Sigma_{i}^{-1}\\mu_i-\\Sigma_{j}^{-1}\\mu_j)$ is (rounded to the nearest integer)"
   ]
  },
  {
   "cell_type": "code",
   "execution_count": 9,
   "metadata": {},
   "outputs": [
    {
     "data": {
      "text/plain": [
       "array([[-0.],\n",
       "       [-3.]])"
      ]
     },
     "execution_count": 9,
     "metadata": {},
     "output_type": "execute_result"
    }
   ],
   "source": [
    "np.round(np.linalg.inv(cov_a).dot(mean_a)-np.linalg.inv(cov_b).dot(mean_b))"
   ]
  },
  {
   "cell_type": "markdown",
   "metadata": {},
   "source": [
    "The third term(constant) is $- \\frac{1}{2}(\\mu_i^T\\Sigma_{i}^{-1}\\mu_i - \\mu_j^T\\Sigma_{j}^{-1}\\mu_j) \n",
    "-\\big(ln(2\\pi|\\Sigma_i|^{\\frac{1}{2}})-ln(2\\pi|\\Sigma_j|^{\\frac{1}{2}})\\big)$"
   ]
  },
  {
   "cell_type": "code",
   "execution_count": 10,
   "metadata": {},
   "outputs": [
    {
     "data": {
      "text/plain": [
       "array([[5.]])"
      ]
     },
     "execution_count": 10,
     "metadata": {},
     "output_type": "execute_result"
    }
   ],
   "source": [
    "np.round(-0.5*(mean_a.T.dot(np.linalg.inv(cov_a).dot(mean_a))-mean_b.T.dot(np.linalg.inv(cov_b).dot(mean_b)))\n",
    "         -(np.log(2*np.pi*np.sqrt(np.linalg.det(cov_a)))-np.log(2*np.pi*np.sqrt(np.linalg.det(cov_b)))))"
   ]
  },
  {
   "cell_type": "markdown",
   "metadata": {},
   "source": [
    "Similarly, for $g_{ac}$, the three terms are"
   ]
  },
  {
   "cell_type": "code",
   "execution_count": 11,
   "metadata": {},
   "outputs": [
    {
     "data": {
      "text/plain": [
       "array([[ 0., -0.],\n",
       "       [-0., -0.]])"
      ]
     },
     "execution_count": 11,
     "metadata": {},
     "output_type": "execute_result"
    }
   ],
   "source": [
    "np.round(-0.5*(np.linalg.inv(cov_a)-np.linalg.inv(cov_c)))"
   ]
  },
  {
   "cell_type": "code",
   "execution_count": 12,
   "metadata": {},
   "outputs": [
    {
     "data": {
      "text/plain": [
       "array([[10.],\n",
       "       [-1.]])"
      ]
     },
     "execution_count": 12,
     "metadata": {},
     "output_type": "execute_result"
    }
   ],
   "source": [
    "np.round(np.linalg.inv(cov_a).dot(mean_a)-np.linalg.inv(cov_c).dot(mean_c))"
   ]
  },
  {
   "cell_type": "code",
   "execution_count": 13,
   "metadata": {},
   "outputs": [
    {
     "data": {
      "text/plain": [
       "array([[53.]])"
      ]
     },
     "execution_count": 13,
     "metadata": {},
     "output_type": "execute_result"
    }
   ],
   "source": [
    "np.round(-0.5*(mean_a.T.dot(np.linalg.inv(cov_a).dot(mean_a))-mean_c.T.dot(np.linalg.inv(cov_c).dot(mean_c)))\n",
    "         -(np.log(2*np.pi*np.sqrt(np.linalg.det(cov_a)))-np.log(2*np.pi*np.sqrt(np.linalg.det(cov_c)))))"
   ]
  },
  {
   "cell_type": "markdown",
   "metadata": {},
   "source": [
    "Similarly, for $g_{bc}$, the three terms are"
   ]
  },
  {
   "cell_type": "code",
   "execution_count": 14,
   "metadata": {},
   "outputs": [
    {
     "data": {
      "text/plain": [
       "array([[ 0., -0.],\n",
       "       [-0., -0.]])"
      ]
     },
     "execution_count": 14,
     "metadata": {},
     "output_type": "execute_result"
    }
   ],
   "source": [
    "np.round(-0.5*(np.linalg.inv(cov_b)-np.linalg.inv(cov_c)))"
   ]
  },
  {
   "cell_type": "code",
   "execution_count": 15,
   "metadata": {},
   "outputs": [
    {
     "data": {
      "text/plain": [
       "array([[11.],\n",
       "       [ 2.]])"
      ]
     },
     "execution_count": 15,
     "metadata": {},
     "output_type": "execute_result"
    }
   ],
   "source": [
    "np.round(np.linalg.inv(cov_b).dot(mean_b)-np.linalg.inv(cov_c).dot(mean_c))"
   ]
  },
  {
   "cell_type": "code",
   "execution_count": 16,
   "metadata": {},
   "outputs": [
    {
     "data": {
      "text/plain": [
       "array([[48.]])"
      ]
     },
     "execution_count": 16,
     "metadata": {},
     "output_type": "execute_result"
    }
   ],
   "source": [
    "np.round(-0.5*(mean_b.T.dot(np.linalg.inv(cov_b).dot(mean_b))-mean_c.T.dot(np.linalg.inv(cov_c).dot(mean_c)))\n",
    "         -(np.log(2*np.pi*np.sqrt(np.linalg.det(cov_b)))-np.log(2*np.pi*np.sqrt(np.linalg.det(cov_c)))))"
   ]
  },
  {
   "cell_type": "markdown",
   "metadata": {},
   "source": [
    "\n",
    "Since we have the covariance matrix and mean for each class, we can calculate $g_{ab}$, $g_{ac}$, and $g_{bc}$.\n",
    "$$\n",
    "g_{ab} = -3x_2+5=0\n",
    "$$\n",
    "$$\n",
    "g_{ac} = 10x_1-x_2+53=0\n",
    "$$\n",
    "$$\n",
    "g_{bc} = 11x_1+2x_2+48=0\n",
    "$$"
   ]
  },
  {
   "cell_type": "code",
   "execution_count": 17,
   "metadata": {},
   "outputs": [
    {
     "data": {
      "text/plain": [
       "<matplotlib.legend.Legend at 0x1fd72938b48>"
      ]
     },
     "execution_count": 17,
     "metadata": {},
     "output_type": "execute_result"
    },
    {
     "data": {
      "image/png": "[encoded data removed]",
      "text/plain": [
       "<Figure size 1440x720 with 1 Axes>"
      ]
     },
     "metadata": {
      "needs_background": "light"
     },
     "output_type": "display_data"
    }
   ],
   "source": [
    "plt.figure(figsize=(20,10))\n",
    "plt.scatter(a[:,0], a[:,1],label='a')\n",
    "plt.scatter(b[:,0], b[:,1],label='b')\n",
    "plt.scatter(c[:,0], c[:,1],label='c')\n",
    "\n",
    "x_ab = np.linspace(-5,15,3)\n",
    "g_ab = 5/3*np.ones_like(x_ab)\n",
    "plt.plot(x_ab, g_ab, linewidth = 5, color='r', label='surface between a and b')\n",
    "\n",
    "x_ac = np.linspace(-6,-5,10)\n",
    "g_ac = 10*x_ac+53\n",
    "plt.plot(x_ac, g_ac, linewidth = 5, color='y', label='surface between a and c')\n",
    "\n",
    "x_bc = np.linspace(-6,-4.5,10)\n",
    "g_bc = -0.5*(11*x_bc+48)\n",
    "plt.plot(x_bc, g_bc, linewidth = 5, color='c', label='surface between b and c')\n",
    "plt.legend()"
   ]
  },
  {
   "cell_type": "markdown",
   "metadata": {},
   "source": [
    "### 1.2 Mahalanobis distance\n",
    "For classes `a` and `b`, give the expression of the Mahalanobis distance used to classify a point in class `a` or `b`, and verify the obtained classification, in comparison with the \"complete\" Bayes classification, for a few points of the plane.\n",
    "\n",
    "*Add your implementation and discussion*"
   ]
  },
  {
   "cell_type": "markdown",
   "metadata": {},
   "source": [
    "If the covariance matrices for two classes are the same, we can use Mahalanobis distance to classify two classes. the Definition of Mahalanobis distance is\n",
    "$$\n",
    "d_m=\n",
    "\\big(\n",
    "(x - \\mu_i)^T\\Sigma^{-1}(x - \\mu_i)\n",
    "\\big)\n",
    "$$\n",
    "The most probable class is the one that minimizes Mahalanobis distance. Since the covariance matrices for class a and b are almost identical, we can use mahalanobis to classify them.\n",
    "\n",
    "The decision surface can be obtained by\n",
    "$$\n",
    "\\big(\n",
    "(x - \\mu_a)^T\\Sigma^{-1}_a(x - \\mu_a)\n",
    "\\big)\n",
    "=\n",
    "\\big(\n",
    "(x - \\mu_b)^T\\Sigma^{-1}_b(x - \\mu_b)\n",
    "\\big)\n",
    "$$\n",
    "$$\n",
    "\\frac{1}{2}x^T(\\Sigma_{a}^{-1}-\\Sigma_{b}^{-1})x\n",
    "- x^T(\\Sigma_{a}^{-1}\\mu_i-\\Sigma_{b}^{-1}\\mu_j)\n",
    "+ \\frac{1}{2}(\\mu_a^T\\Sigma_{a}^{-1}\\mu_a - \\mu_b^T\\Sigma_{b}^{-1}\\mu_b) \n",
    "=0\n",
    "$$\n"
   ]
  },
  {
   "cell_type": "markdown",
   "metadata": {},
   "source": [
    "$\\frac{1}{2}(\\Sigma_{a}^{-1}-\\Sigma_{b}^{-1})$"
   ]
  },
  {
   "cell_type": "code",
   "execution_count": 18,
   "metadata": {},
   "outputs": [
    {
     "name": "stdout",
     "output_type": "stream",
     "text": [
      "[[0. 0.]\n",
      " [0. 0.]]\n"
     ]
    }
   ],
   "source": [
    "print(np.round(0.5*(inv(cov_a)-inv(cov_b))))"
   ]
  },
  {
   "cell_type": "markdown",
   "metadata": {},
   "source": [
    "$- (\\Sigma_{a}^{-1}\\mu_i-\\Sigma_{b}^{-1}\\mu_j)$"
   ]
  },
  {
   "cell_type": "code",
   "execution_count": 19,
   "metadata": {},
   "outputs": [
    {
     "name": "stdout",
     "output_type": "stream",
     "text": [
      "[[0.]\n",
      " [3.]]\n"
     ]
    }
   ],
   "source": [
    "print(-np.round(np.dot(inv(cov_a), mean_a)-np.dot(inv(cov_b), mean_b)))"
   ]
  },
  {
   "cell_type": "markdown",
   "metadata": {},
   "source": [
    "$\\frac{1}{2}(\\mu_a^T\\Sigma_{a}^{-1}\\mu_a - \\mu_b^T\\Sigma_{b}^{-1}\\mu_b) $"
   ]
  },
  {
   "cell_type": "code",
   "execution_count": 20,
   "metadata": {},
   "outputs": [
    {
     "name": "stdout",
     "output_type": "stream",
     "text": [
      "[[-5.]]\n"
     ]
    }
   ],
   "source": [
    "print(np.round(0.5*(np.dot(mean_a.T, np.dot(inv(cov_a), mean_a))-np.dot(mean_b.T, np.dot(inv(cov_b), mean_b)))))"
   ]
  },
  {
   "cell_type": "markdown",
   "metadata": {},
   "source": [
    "The decision surface is\n",
    "$$\n",
    "-3x_2+5=0\n",
    "$$\n",
    "Since the result is rounded to the nearest interger, the result is the same as the complete Bayes classification.\n",
    "But from both formulas, there are still some differences, which is\n",
    "$$\n",
    "\\big(ln(2\\pi|\\Sigma_i|^{\\frac{1}{2}})-ln(2\\pi|\\Sigma_j|^{\\frac{1}{2}})\\big)\n",
    "$$\n",
    "Since the two covariances are very similar, this term is almost zero and can be ignored."
   ]
  },
  {
   "cell_type": "markdown",
   "metadata": {},
   "source": [
    "## Part 2\n",
    "In this part, we aim to classify digits using the complete version of MNIST digits dataset.\n",
    "The dataset consists of 60'000 training images and 10'000 test images of handwritten digits.\n",
    "Each image has size 28x28, and has assigned a label from zero to nine, denoting the digits value.\n",
    "Given this data, your task is to construct a Multilayer Perceptron (MLP) for supervised training and classification and evaluate it on the test images.\n",
    "\n",
    "Download the MNIST dataset (all 4 files) from http://yann.lecun.com/exdb/mnist/ under `lab-03-data/part2`.\n",
    "You can then use the script provided below to extract and load training and testing images in Python.\n",
    "\n",
    "To create an MLP you are free to choose any library.\n",
    "In case you don't have any preferences, we encourage you to use the [scikit-learn] package; it is a simple, efficient and free tool for data analysis and machine learning.\n",
    "In this [link][sklearn-example], you can find a basic example to see how to create and train an MLP using [scikit-learn].\n",
    "Your network should have the following properties:\n",
    "* Input `x`: 784-dimensional (i.e. 784 visible units representing the flattened 28x28 pixel images).\n",
    "* 100 hidden units `h`.\n",
    "* 10 output units `y`, i.e. the labels, with a value close to one in the i-th class representing a high probability of the input representing the digit `i`.\n",
    "\n",
    "If you need additional examples you can borrow some code from image classification tutorials.\n",
    "However, we recommend that you construct a minimal version of the network on your own to gain better insights.\n",
    "\n",
    "[scikit-learn]: http://scikit-learn.org/stable/index.html\n",
    "[sklearn-example]: http://scikit-learn.org/stable/modules/neural_networks_supervised.html"
   ]
  },
  {
   "cell_type": "markdown",
   "metadata": {},
   "source": [
    "### 2.1 Dataset loading\n",
    "Here we first declare the methods `extract_data` and `extract_labels` so that we can reuse them later in the code.\n",
    "Then we extract both the data and corresponding labels, and plot randomly some images and corresponding labels of the training set."
   ]
  },
  {
   "cell_type": "code",
   "execution_count": null,
   "metadata": {},
   "outputs": [],
   "source": [
    "import gzip\n",
    "import numpy as np\n",
    "import matplotlib.pyplot as plt\n",
    "\n",
    "def extract_data(filename, image_shape, image_number):\n",
    "    with gzip.open(filename) as bytestream:\n",
    "        bytestream.read(16)\n",
    "        buf = bytestream.read(np.prod(image_shape) * image_number)\n",
    "        data = np.frombuffer(buf, dtype=np.uint8).astype(np.float32)\n",
    "        data = data.reshape(image_number, image_shape[0], image_shape[1])\n",
    "    return data\n",
    "\n",
    "\n",
    "def extract_labels(filename, image_number):\n",
    "    with gzip.open(filename) as bytestream:\n",
    "        bytestream.read(8)\n",
    "        buf = bytestream.read(1 * image_number)\n",
    "        labels = np.frombuffer(buf, dtype=np.uint8).astype(np.int64)\n",
    "    return labels"
   ]
  },
  {
   "cell_type": "code",
   "execution_count": null,
   "metadata": {},
   "outputs": [],
   "source": [
    "train_set_size = 60000\n",
    "test_set_size = 10000\n",
    "image_shape = (28, 28)\n",
    "\n",
    "\n",
    "data_part2_folder = os.path.join(data_base_path, data_folder, 'part2')\n",
    "\n",
    "train_images_path = os.path.join(data_part2_folder, 'train-images-idx3-ubyte.gz')\n",
    "train_labels_path = os.path.join(data_part2_folder, 'train-labels-idx1-ubyte.gz')\n",
    "test_images_path = os.path.join(data_part2_folder, 't10k-images-idx3-ubyte.gz')\n",
    "test_labels_path = os.path.join(data_part2_folder, 't10k-labels-idx1-ubyte.gz')\n",
    "\n",
    "train_images = extract_data(train_images_path, image_shape, train_set_size)\n",
    "test_images = extract_data(test_images_path, image_shape, test_set_size)\n",
    "train_labels = extract_labels(train_labels_path, train_set_size)\n",
    "test_labels = extract_labels(test_labels_path, test_set_size)"
   ]
  },
  {
   "cell_type": "code",
   "execution_count": null,
   "metadata": {},
   "outputs": [],
   "source": [
    "prng = np.random.RandomState(seed=123456789)  # seed to always re-draw the same distribution\n",
    "plt_ind = prng.randint(low=0, high=train_set_size, size=10)\n",
    "\n",
    "fig, axes = plt.subplots(1, 10, figsize=(12, 3))\n",
    "for ax, im, lb in zip(axes, train_images[plt_ind], train_labels[plt_ind]):\n",
    "    ax.imshow(im, cmap='gray')\n",
    "    ax.axis('off')\n",
    "    ax.set_title(lb)"
   ]
  },
  {
   "cell_type": "markdown",
   "metadata": {},
   "source": [
    "### 2.2 MLP\n",
    "*Add your implementation and discussion*"
   ]
  }
 ],
 "metadata": {
  "kernelspec": {
   "display_name": "Python 3",
   "language": "python",
   "name": "python3"
  },
  "language_info": {
   "codemirror_mode": {
    "name": "ipython",
    "version": 3
   },
   "file_extension": ".py",
   "mimetype": "text/x-python",
   "name": "python",
   "nbconvert_exporter": "python",
   "pygments_lexer": "ipython3",
   "version": "3.7.7"
  }
 },
 "nbformat": 4,
 "nbformat_minor": 4
}
